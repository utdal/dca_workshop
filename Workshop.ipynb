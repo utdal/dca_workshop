{
 "cells": [
  {
   "cell_type": "markdown",
   "metadata": {},
   "source": [
    "## DCA Workshop\n",
    "#### This is a Jupyter notebook guide to running a Direct Coupling Analysis with mfDCA.\n",
    "#### While this script can be run start to finish with no effort on your part by hitting the \"Run All\" button, the goal is ultimately for you to understand at every step what is happening.\n",
    "#### I encourage you to open the files and try to understand what is contained in them.\n",
    "#### BEFORE running, make sure to follow the README in the github to set up an environment to run this.\n",
    "\n",
    "#### This guide will cover:\n",
    "#### - Downloading an MSA from Pfam\n",
    "#### - Filtering the MSA to improve DCA results\n",
    "#### - Downloading a PDB and pulling the fasta file and native contacts from it.\n",
    "#### - Aligning the PDB fasta to the Pfam MSA.\n",
    "#### - Ranking, filtering, and plotting DI pairs.\n"
   ]
  },
  {
   "cell_type": "code",
   "execution_count": null,
   "metadata": {},
   "outputs": [],
   "source": [
    "import os \n",
    "import subprocess\n",
    "from requests import get\n",
    "from dca import dca_class, dca_analysis, helper_functions\n",
    "from Bio import SeqIO \n",
    "import numpy as np \n",
    "import matplotlib.pyplot as plt "
   ]
  },
  {
   "cell_type": "markdown",
   "metadata": {},
   "source": [
    "#### Step 1: Downloading from Pfam.\n",
    "##### Pfam is a curated database for multiple sequence alignments of protein domains.\n",
    "##### The MSAs are of high quality and typically give good results in our analysis.\n",
    "##### Make sure to look at this page: https://pfam.xfam.org/family/PF01401 , and read their FAQ for more info on what the database is and how the MSA are created.\n",
    "##### There are a number of tabs that you can look at with different useful information on the proteins that exist in this \"family\".\n",
    "##### We will be downloading the \"Full\" MSA under the alignments tab; there are other MSA you can try on your own.\n"
   ]
  },
  {
   "cell_type": "code",
   "execution_count": null,
   "metadata": {},
   "outputs": [],
   "source": [
    "# checks for a data folder; outputs all files to data folder\n",
    "if not os.path.isdir('data'): \n",
    "    os.makedirs('data')\n",
    "\n",
    "def data_dir(filename: str) -> str:\n",
    "    '''platform agnostic directory handling. \n",
    "    wrap a filename, returns data/filename'''\n",
    "    return os.path.join('data',filename)"
   ]
  },
  {
   "cell_type": "code",
   "execution_count": null,
   "metadata": {},
   "outputs": [],
   "source": [
    "# This analysis will be guided for a specific protein and Pfam family, listed here as variables.\n",
    "path_to_hmmer = '' # if on Windows and following guide, leave this the way it is. Otherwise, change it to match below.\n",
    "# path_to_hmmer = 'your/path/to/hmmer/bin'\n",
    "\n",
    "pfam_ID = 'PF01401'\n",
    "pdb_ID = '1R42'"
   ]
  },
  {
   "cell_type": "code",
   "execution_count": null,
   "metadata": {},
   "outputs": [],
   "source": [
    "# downloads and saves the PFAM MSA into the data folder\n",
    "url_download = get('http://pfam.xfam.org/family/'+pfam_ID+'/alignment/full/format?format=fasta&alnType=full&order=t&case=l&gaps=default&download=1')\n",
    "with open( data_dir('pfam_full_'+pfam_ID+'.fasta') ,'wb') as file:\n",
    "    file.write(url_download.content)"
   ]
  },
  {
   "cell_type": "markdown",
   "metadata": {},
   "source": [
    "#### Step 2: Filtering the Pfam MSA.\n",
    "##### The Pfam MSA has many characters we do not use (lowercase letters and periods).\n",
    "##### After removing these characters, some sequences will have a large amounts of consecutive gaps.\n",
    "##### Consecutive gaps often add noise and detract from the quality of the analysis, so we do some filtering to remove sequences which have too many consecutive gaps.\n",
    "##### This notebook filters at 20% of the length of the aligned sequence, so a sequence of length 100 with 21 consecutive '-' characters is removed from the MSA.\n",
    "##### This file will be saved with \"filtered_\" appended, and will be used for the rest of the analysis."
   ]
  },
  {
   "cell_type": "code",
   "execution_count": null,
   "metadata": {},
   "outputs": [],
   "source": [
    "# clean sequences\n",
    "helper_functions.clean_pfam( data_dir('pfam_full_'+pfam_ID+'.fasta'), \n",
    "                            data_dir('clean_pfam_full_'+pfam_ID+'.fasta'))\n",
    "\n",
    "# get final sequence length and calculate max number of consecutive gaps to allow\n",
    "msa_gap_percentage = 20\n",
    "pfam_sequence_length = len(next(SeqIO.parse( data_dir('clean_pfam_full_'+pfam_ID+'.fasta') ,'fasta')))\n",
    "max_gaps = round( msa_gap_percentage * pfam_sequence_length / 100 )\n",
    "\n",
    "#save filtered_ MSA for use later in the notebook.\n",
    "helper_functions.filter_pfam( data_dir('clean_pfam_full_'+pfam_ID+'.fasta'), max_gaps, \n",
    "                            data_dir('filtered_'+str(msa_gap_percentage)+'pct_pfam_full_'+pfam_ID+'.fasta'))"
   ]
  },
  {
   "cell_type": "markdown",
   "metadata": {},
   "source": [
    "#### Step 3: Downloading the PDB.\n",
    "##### We are downloading our PDBs from https://www.rcsb.org, the Protein Data Bank.\n",
    "##### The PDB ID above will be used to download the PDB, and then we will extract its amino acid sequence and its native contacts.\n",
    "##### The native contacts are calculated from the PDB, and it is saved as a list of pairs of residues in the protein structure which are within some distance of each other. Here we will be using <=10 angstroms between the C-alpha carbon of the residues as the cutoff distance, saved as 'native_contacts_calpha'. This file will be used later, and should have pairs of numbers inside.\n",
    "##### You can also choose a cutoff that uses all atoms in the PDB. This means that if any atom in a residue is within some cutoff distance of an atom in another residue, then that pair of residues will be output to a file ('native_contacts_allatoms')"
   ]
  },
  {
   "cell_type": "code",
   "execution_count": null,
   "metadata": {},
   "outputs": [],
   "source": [
    "# Downloading PDB file...\n",
    "pdb_file = get('https://files.rcsb.org/download/'+pdb_ID+'.pdb')\n",
    "with open( data_dir(pdb_ID+'.pdb') ,'wb') as fd:\n",
    "    fd.write(pdb_file.content)\n",
    "# Downloading PDB fasta file...\n",
    "pdb_fasta_file = get('https://www.rcsb.org/fasta/entry/'+pdb_ID)\n",
    "with open( data_dir(pdb_ID+'.fasta') ,'wb') as fd:\n",
    "    fd.write(pdb_fasta_file.content)"
   ]
  },
  {
   "cell_type": "code",
   "execution_count": null,
   "metadata": {},
   "outputs": [],
   "source": [
    "# calculate distances, calpha or allatoms\n",
    "# change \"interface_contacts_calpha\" to \"interface_contacts_allatoms\" for allatoms. \n",
    "angstrom_cutoff = 10\n",
    "output_contact_filename = helper_functions.interface_contacts_calpha( data_dir(pdb_ID+'.pdb'), 'A', 'A', angstrom_cutoff )\n",
    "\n",
    "# Create Native Pairs file. \n",
    "# If you changd calpha to allatoms, you'll have to change 5 values in this code. Check the contactmap_allatoms file for help\n",
    "output_native_filename = data_dir('native_contacts_' + output_contact_filename.split('_')[1])\n",
    "with open(output_native_filename,'w') as output:\n",
    "    with open(output_contact_filename,'r') as fd:\n",
    "        for  line in fd:\n",
    "            split_line = line.split()\n",
    "            if split_line[0] == 'res': # skip first line of file\n",
    "                continue \n",
    "            elif int(split_line[0]) > 0 and int(split_line[3]) > 0: \n",
    "                pairs = ' '.join([split_line[0],split_line[3]])\n",
    "                output.writelines(pairs+'\\n')"
   ]
  },
  {
   "cell_type": "markdown",
   "metadata": {},
   "source": [
    "#### Step 4: Aligning the PDB sequence to the MSA.\n",
    "##### The MSA generated by Pfam will likely not look like the sequence of your real protein; it will often be shorter, or even a small subset of the protein you are looking at. It will also have deletions and insertions relative to your protein sequence. This is because the MSA was generated by trying to find generally consistent features of the \"family\" of protein domains and might not include your particular protein's residues.\n",
    "##### This means that aligning your PDB of interest is not straightforward. Luckily the HMMER package makes this simple for you.\n",
    "##### The HMM file for your particular Pfam ID is in the \"Model and Curation\" tab on Pfam. This can be used to align any sequence to your MSA, because the MSA was made with the HMM file.\n",
    "##### This section downloads the HMM file, then uses the HMMER package to align your pdb sequence. It returns a dictionary, mapping MSA coordinates to PDB coordinates. MSA position 1 -> PDB position 12, for example.\n",
    "##### A formatted alignment file will also be saved as \"pdb_id.align\". This is an important file to check if the results are poor; it's a common place where the DI pairs from DCA get offset from the PDB itself and cause poor contact prediction."
   ]
  },
  {
   "cell_type": "code",
   "execution_count": null,
   "metadata": {},
   "outputs": [],
   "source": [
    "# download hmm profile\n",
    "hmm_file = get('http://pfam.xfam.org/family/'+pfam_ID+'/hmm')\n",
    "with open( data_dir(pdb_ID+'.hmm'),'wb') as fd: \n",
    "    fd.write(hmm_file.content)\n",
    "\n",
    "# Use hmmpress to prepare hmmprofile for use\n",
    "hmmpress_command = [path_to_hmmer+'hmmpress', data_dir(pdb_ID+'.hmm')]\n",
    "\n",
    "# Command to align your sequence to the alignment\n",
    "hmmscan_command = [path_to_hmmer+'hmmscan', '-o', data_dir(pdb_ID+'.scan'),\n",
    "                         '--notextw', data_dir(pdb_ID+'.hmm'), data_dir(pdb_ID+'.fasta') ]\n",
    "                         \n",
    "# done two ways: windows or anything else\n",
    "if 'nt' in os.name: # windows!\n",
    "    hmmpress_command.insert(0,'wsl')\n",
    "    hmmscan_command.insert(0,'wsl')\n",
    "    print(subprocess.check_call(hmmpress_command))\n",
    "    print(subprocess.check_call(hmmscan_command))\n",
    "else: # linux/macos setup\n",
    "    subprocess.run(hmmpress_command)\n",
    "    subprocess.run(hmmscan_command)"
   ]
  },
  {
   "cell_type": "code",
   "execution_count": null,
   "metadata": {},
   "outputs": [],
   "source": [
    "# parse the scan file to build an align file, to be used later. \n",
    "important_scan_lines = []\n",
    "start_recording = False\n",
    "counter = 0\n",
    "with open( data_dir(pdb_ID+'.scan'),'r') as fd:\n",
    "    for line in fd:\n",
    "        if 'domain' in line and 'score' in line and 'E-value' in line: # start recording lines\n",
    "            start_recording = True \n",
    "            continue # jump to next iteration in for loop\n",
    "        else:\n",
    "            if start_recording:\n",
    "                important_scan_lines.append(line.rstrip())\n",
    "                counter+=1\n",
    "            if counter == 4:\n",
    "                break \n",
    "\n",
    "# build align file\n",
    "with open( data_dir(pdb_ID+'.align'), 'w') as output:\n",
    "    for alignment in [ important_scan_lines[1], important_scan_lines[3] ]:\n",
    "        to_print = alignment.split()\n",
    "        for line in to_print:\n",
    "            output.writelines(line+'\\n')\n",
    "        output.writelines('\\n')\n",
    "\n",
    "# build alignment dictionary\n",
    "alignment_dictionary = helper_functions.backmap_alignment( data_dir(pdb_ID+'.align') )"
   ]
  },
  {
   "cell_type": "markdown",
   "metadata": {},
   "source": [
    "#### Step 5: Run analysis, plot results!\n",
    "##### Almost there! Now we can run DCA using the cleaned and filtered fasta file we've created. Then, we can use one of the outputs of DCA, the DI scores, to rank pairs of positions in the MSA by how strongly they are interacting.\n",
    "##### The DI score is a measure of the strength of couplings between any two positions in the MSA. So if residue 1 and residue 20 are covarying (changing together) across all/most sequences in your dataset, then this might get a large DI score. If positions 2 and 19 do not seem to change with each other as you look at each individual sequence in the dataset, then this would get a lower DI score. \n",
    "##### Once we have these DI pairs, we can then align them to the PDB coordinates so that we can predict which positions in the PDB structure are interacting based *solely* on the statistics of natural sequences from databases.\n",
    "##### We then visualize the interaction using the contact map, where the pairs of positions are represented as (pos1, pos2) on an (x,y) grid.\n",
    "##### We do some further processing:\n",
    "##### - The DI pairs which are <4 positions away are often highly correlated/coupled (1 and 2, 1 and 3, etc). We're not interested in these positions, so we can filter them out to see distant pairs which are strongly coupled.\n",
    "##### - We plot only a subset of the DI pairs after they're ranked and filtered. The DI metric gives a score for every possible pair of positions, and many of them will have very low scores. We plot the highest few because they have the best chance of being real interactions expected in any member of the protein/domain family. You can change these parameters in the script, but we will plot the top N=(length of alignment) pairs."
   ]
  },
  {
   "cell_type": "code",
   "execution_count": null,
   "metadata": {},
   "outputs": [],
   "source": [
    "# Run DCA with the cleaned/filtered MSA.\n",
    "dca_model = dca_class.dca( data_dir('filtered_'+str(msa_gap_percentage)+'pct_pfam_full_'+pfam_ID+'.fasta') )\n",
    "dca_model.mean_field() # runs the analysis. Might take a while!\n",
    "\n",
    "# print DCA Summary\n",
    "print('Summary of MSA and Effective # of Sequences:')\n",
    "print(\"M = \"+str(dca_model.M)+' , N = '+str(dca_model.N))\n",
    "print(\"Meff = \"+ str(dca_model.Meff))\n",
    "\n",
    "# Rank the pairs.\n",
    "ranked_di_pairs = dca_model.DI[ np.argsort( dca_model.DI[:,2] )[::-1] ]\n",
    "\n",
    "# Filter out pairs that are too close, and map pairs \n",
    "# with alignment dictionary from previous step\n",
    "mapped_di_pairs = dca_analysis.map_filter_DIpairs(alignment_dictionary, ranked_di_pairs)\n",
    "\n",
    "# Take top N pairs\n",
    "top_N_pairs = mapped_di_pairs[:pfam_sequence_length,:2]\n",
    "\n",
    "# Load the native pairs.\n",
    "native_pairs = np.loadtxt(output_native_filename)"
   ]
  },
  {
   "cell_type": "code",
   "execution_count": null,
   "metadata": {},
   "outputs": [],
   "source": [
    "# Create the plot!\n",
    "plot_figure, true_positive_rate, di_pair_hits = dca_analysis.plot_top_pairs(native_pairs, top_N_pairs, figure_size=(2,2))\n",
    "plt.title(pfam_ID+'; '+pdb_ID+' structure; Top '+str(pfam_sequence_length)+' DI pairs, True Positive Rate ='+ str(round(true_positive_rate,2)),fontsize=3 );\n",
    "plot_figure.tight_layout();"
   ]
  },
  {
   "cell_type": "markdown",
   "metadata": {},
   "source": [
    "##### Finally, you can double check that all of this worked by looking at what pairs of residues mfDCA predicted in the PDB structure. \n",
    "##### You can visualize the downloaded PDB with PyMOL or ChimeraX, then check the red dots from the plot above to see if these pairs are correct. It's good to perform this check and others as its easy to be misled by bugs in code. Don't trust that this script works, investigate the code yourself!"
   ]
  },
  {
   "cell_type": "code",
   "execution_count": null,
   "metadata": {},
   "outputs": [],
   "source": [
    "# These are the DI pair hits. Pairs that ==1 are red, pairs that ==0 are gray in the plot above.\n",
    "print( di_pair_hits[ di_pair_hits[:,2] == 1 ] )"
   ]
  }
 ],
 "metadata": {
  "interpreter": {
   "hash": "65c09a6464820cf64bf17882825efce6cb24d35332b4d77fcb8d72fde348300e"
  },
  "kernelspec": {
   "display_name": "Python 3.9.9 64-bit ('dca': conda)",
   "language": "python",
   "name": "python3"
  },
  "language_info": {
   "codemirror_mode": {
    "name": "ipython",
    "version": 3
   },
   "file_extension": ".py",
   "mimetype": "text/x-python",
   "name": "python",
   "nbconvert_exporter": "python",
   "pygments_lexer": "ipython3",
   "version": "3.9.9"
  },
  "orig_nbformat": 4
 },
 "nbformat": 4,
 "nbformat_minor": 2
}
